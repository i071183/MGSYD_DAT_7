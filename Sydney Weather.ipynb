{
 "cells": [
  {
   "cell_type": "code",
   "execution_count": 25,
   "metadata": {
    "collapsed": true
   },
   "outputs": [],
   "source": [
    "import requests\n",
    "from bs4 import BeautifulSoup"
   ]
  },
  {
   "cell_type": "code",
   "execution_count": 26,
   "metadata": {
    "collapsed": true
   },
   "outputs": [],
   "source": [
    "r = requests.get('http://www.bom.gov.au/nsw/forecasts/sydney.shtml')"
   ]
  },
  {
   "cell_type": "code",
   "execution_count": 27,
   "metadata": {
    "collapsed": false
   },
   "outputs": [
    {
     "data": {
      "text/plain": [
       "200"
      ]
     },
     "execution_count": 27,
     "metadata": {},
     "output_type": "execute_result"
    }
   ],
   "source": [
    "r.status_code"
   ]
  },
  {
   "cell_type": "code",
   "execution_count": 28,
   "metadata": {
    "collapsed": true
   },
   "outputs": [],
   "source": [
    "import bs4"
   ]
  },
  {
   "cell_type": "code",
   "execution_count": 36,
   "metadata": {
    "collapsed": false
   },
   "outputs": [],
   "source": [
    "soup = bs4.BeautifulSoup(r.text,'lxml')"
   ]
  },
  {
   "cell_type": "code",
   "execution_count": 30,
   "metadata": {
    "collapsed": false
   },
   "outputs": [
    {
     "name": "stdout",
     "output_type": "stream",
     "text": [
      "Requirement already satisfied: lxml in /Users/nerenevaz/anaconda/lib/python2.7/site-packages\r\n"
     ]
    }
   ],
   "source": [
    "!pip install lxml"
   ]
  },
  {
   "cell_type": "code",
   "execution_count": 33,
   "metadata": {
    "collapsed": false
   },
   "outputs": [],
   "source": [
    "import lxml\n",
    "import urllib2\n",
    "import lxml\n",
    "import lxml.etree"
   ]
  },
  {
   "cell_type": "code",
   "execution_count": 38,
   "metadata": {
    "collapsed": false
   },
   "outputs": [],
   "source": [
    "soup = bs4.BeautifulSoup(r.text,'lxml')"
   ]
  },
  {
   "cell_type": "code",
   "execution_count": 40,
   "metadata": {
    "collapsed": false
   },
   "outputs": [],
   "source": [
    "first_mentioned_minimmum = soup.find('em' , class_ = 'min')\n",
    "first_mentioned_maximum  = soup .find('em' ,class_ = 'max')"
   ]
  },
  {
   "cell_type": "code",
   "execution_count": 41,
   "metadata": {
    "collapsed": false
   },
   "outputs": [
    {
     "data": {
      "text/plain": [
       "26"
      ]
     },
     "execution_count": 41,
     "metadata": {},
     "output_type": "execute_result"
    }
   ],
   "source": [
    "int(first_mentioned_maximum.text)"
   ]
  },
  {
   "cell_type": "code",
   "execution_count": 42,
   "metadata": {
    "collapsed": true
   },
   "outputs": [],
   "source": []
  },
  {
   "cell_type": "code",
   "execution_count": 48,
   "metadata": {
    "collapsed": false
   },
   "outputs": [
    {
     "data": {
      "text/plain": [
       "[<img alt=\"\" height=\"42\" src=\"/images/symbols/large/storm.png\" width=\"45\"/>,\n",
       " <img alt=\"\" height=\"42\" src=\"/images/symbols/large/storm.png\" width=\"45\"/>,\n",
       " <img alt=\"\" height=\"42\" src=\"/images/symbols/large/storm.png\" width=\"45\"/>,\n",
       " <img alt=\"\" height=\"42\" src=\"/images/symbols/large/showers.png\" width=\"45\"/>,\n",
       " <img alt=\"\" height=\"42\" src=\"/images/symbols/large/showers.png\" width=\"45\"/>,\n",
       " <img alt=\"\" height=\"42\" src=\"/images/symbols/large/showers.png\" width=\"45\"/>,\n",
       " <img alt=\"\" height=\"42\" src=\"/images/symbols/large/showers.png\" width=\"45\"/>,\n",
       " <img alt=\"\" height=\"42\" src=\"/images/symbols/large/showers.png\" width=\"45\"/>]"
      ]
     },
     "execution_count": 48,
     "metadata": {},
     "output_type": "execute_result"
    }
   ],
   "source": [
    "soup.find_all('img', height=42,width=45)"
   ]
  },
  {
   "cell_type": "code",
   "execution_count": 50,
   "metadata": {
    "collapsed": false
   },
   "outputs": [
    {
     "data": {
      "text/plain": [
       "['storm',\n",
       " 'storm',\n",
       " 'storm',\n",
       " 'showers',\n",
       " 'showers',\n",
       " 'showers',\n",
       " 'showers',\n",
       " 'showers']"
      ]
     },
     "execution_count": 50,
     "metadata": {},
     "output_type": "execute_result"
    }
   ],
   "source": [
    "[x['src'].split('/')[-1][:-4] for x in soup.find_all('img', height=42,width=45)]\n"
   ]
  },
  {
   "cell_type": "code",
   "execution_count": 52,
   "metadata": {
    "collapsed": false
   },
   "outputs": [
    {
     "data": {
      "text/plain": [
       "[<h2>Forecast for the rest of Thursday</h2>,\n",
       " <h2>Friday 3 March</h2>,\n",
       " <h2>Saturday 4 March</h2>,\n",
       " <h2>Sunday 5 March</h2>,\n",
       " <h2>Monday 6 March</h2>,\n",
       " <h2>Tuesday 7 March</h2>,\n",
       " <h2>Wednesday 8 March</h2>,\n",
       " <h2>Thursday 9 March</h2>]"
      ]
     },
     "execution_count": 52,
     "metadata": {},
     "output_type": "execute_result"
    }
   ],
   "source": [
    "soup.find_all('h2')"
   ]
  },
  {
   "cell_type": "code",
   "execution_count": 59,
   "metadata": {
    "collapsed": false
   },
   "outputs": [
    {
     "data": {
      "text/plain": [
       "u'Saturday 4 March'"
      ]
     },
     "execution_count": 59,
     "metadata": {},
     "output_type": "execute_result"
    }
   ],
   "source": [
    "saturday = soup.find('h2',string=lambda x: 'Saturday' in x)\n",
    "saturday.text"
   ]
  },
  {
   "cell_type": "code",
   "execution_count": 65,
   "metadata": {
    "collapsed": false
   },
   "outputs": [],
   "source": [
    "def saturday_finder(x):\n",
    "    if 'Saturday' in x :return True\n",
    "    else: return False\n",
    "\n",
    "\n",
    "saturday = soup.find('h2', string=saturday_finder)"
   ]
  },
  {
   "cell_type": "code",
   "execution_count": 64,
   "metadata": {
    "collapsed": false
   },
   "outputs": [
    {
     "data": {
      "text/plain": [
       "u'\\n'"
      ]
     },
     "execution_count": 64,
     "metadata": {},
     "output_type": "execute_result"
    }
   ],
   "source": [
    "saturday.next_sibling"
   ]
  },
  {
   "cell_type": "code",
   "execution_count": 67,
   "metadata": {
    "collapsed": false
   },
   "outputs": [
    {
     "data": {
      "text/plain": [
       "u'\\n\\nSummary\\n\\n\\n\\nMin 21\\nMax 26\\nShowers. Possible storm.\\nPossible rainfall: 10 to 20 mm\\nChance of any rain: 95%\\n\\t\\t\\t\\t\\t\\n\\nSydney area\\nCloudy. Very high (95%) chance of showers. The chance of a thunderstorm. Winds south to southwesterly and light increasing to 25 to 35 km/h in the morning.\\n'"
      ]
     },
     "execution_count": 67,
     "metadata": {},
     "output_type": "execute_result"
    }
   ],
   "source": [
    "saturday_forecast_div = saturday.parent.find('div' , class_ ='forecast')\n",
    "saturday_forecast_div.text"
   ]
  },
  {
   "cell_type": "code",
   "execution_count": 69,
   "metadata": {
    "collapsed": false
   },
   "outputs": [
    {
     "data": {
      "text/plain": [
       "21"
      ]
     },
     "execution_count": 69,
     "metadata": {},
     "output_type": "execute_result"
    }
   ],
   "source": [
    "int(saturday_forecast_div.find('em' , class_ = 'min').text)"
   ]
  },
  {
   "cell_type": "code",
   "execution_count": null,
   "metadata": {
    "collapsed": true
   },
   "outputs": [],
   "source": []
  }
 ],
 "metadata": {
  "kernelspec": {
   "display_name": "Python [conda root]",
   "language": "python",
   "name": "conda-root-py"
  },
  "language_info": {
   "codemirror_mode": {
    "name": "ipython",
    "version": 2
   },
   "file_extension": ".py",
   "mimetype": "text/x-python",
   "name": "python",
   "nbconvert_exporter": "python",
   "pygments_lexer": "ipython2",
   "version": "2.7.12"
  }
 },
 "nbformat": 4,
 "nbformat_minor": 1
}
